{
 "cells": [
  {
   "cell_type": "code",
   "execution_count": 56,
   "id": "cba4ca22",
   "metadata": {},
   "outputs": [],
   "source": [
    "import pickle\n",
    "import matplotlib.pyplot as plt\n",
    "import os\n",
    "import numpy as np\n",
    "import matplotlib.pyplot as plt\n",
    "from sklearn.covariance import EmpiricalCovariance\n",
    "import torch\n",
    "#from sklearn.decomposition import PCA\n",
    "#from sklearn.manifold import TSNE"
   ]
  },
  {
   "cell_type": "code",
   "execution_count": null,
   "id": "12592ba3",
   "metadata": {},
   "outputs": [],
   "source": [
    "with open('classwise_GTfeatures.pkl', 'rb') as f:\n",
    "        embed_classwise = pickle.load(f)"
   ]
  },
  {
   "cell_type": "code",
   "execution_count": 2,
   "id": "bffb6766",
   "metadata": {},
   "outputs": [],
   "source": [
    "embed_classwise = {}\n",
    "fea_path = \"/home/vaibhav/Desktop/stud/datasets/esmart/bigdetect_features/GT/pooled/\""
   ]
  },
  {
   "cell_type": "code",
   "execution_count": 3,
   "id": "0fd103c5",
   "metadata": {},
   "outputs": [],
   "source": [
    "for im in os.listdir(fea_path):\n",
    "    x = {}\n",
    "    with open(os.path.join(fea_path,im), 'rb') as f:\n",
    "        x = pickle.load(f)\n",
    "        \n",
    "    idx = 0\n",
    "    for i in x['preds']:\n",
    "        if embed_classwise.get(i.item()) == None:\n",
    "            embed_classwise[i.item()] = [x['features'][idx].detach().cpu().numpy()]\n",
    "        else:\n",
    "            embed_classwise[i.item()].append(x['features'][idx].detach().cpu().numpy())\n",
    "        idx += 1"
   ]
  },
  {
   "cell_type": "code",
   "execution_count": 13,
   "id": "a481bb85",
   "metadata": {},
   "outputs": [],
   "source": [
    "a = np.array(embed_classwise[5])"
   ]
  },
  {
   "cell_type": "code",
   "execution_count": 14,
   "id": "94fc028c",
   "metadata": {},
   "outputs": [
    {
     "data": {
      "text/plain": [
       "(165, 1024)"
      ]
     },
     "execution_count": 14,
     "metadata": {},
     "output_type": "execute_result"
    }
   ],
   "source": [
    "a.shape"
   ]
  },
  {
   "cell_type": "code",
   "execution_count": 19,
   "id": "092a002a",
   "metadata": {},
   "outputs": [
    {
     "data": {
      "text/plain": [
       "(1024,)"
      ]
     },
     "execution_count": 19,
     "metadata": {},
     "output_type": "execute_result"
    }
   ],
   "source": [
    "embed_classwise[0][0].shape"
   ]
  },
  {
   "cell_type": "code",
   "execution_count": 49,
   "id": "b1adecf9",
   "metadata": {},
   "outputs": [
    {
     "name": "stdout",
     "output_type": "stream",
     "text": [
      "(170, 1024)\n",
      "(392, 1024)\n",
      "(42233, 1024)\n",
      "(625, 1024)\n",
      "(7420, 1024)\n",
      "(165, 1024)\n",
      "(1573, 1024)\n",
      "(7762, 1024)\n",
      "(6797, 1024)\n",
      "(1032, 1024)\n",
      "(4381, 1024)\n",
      "(4470, 1024)\n"
     ]
    }
   ],
   "source": [
    "classwise_mean = np.zeros((len(embed_classwise.keys()),embed_classwise[0][0].shape[0]),dtype='float32')\n",
    "precision = []\n",
    "for c in range(len(embed_classwise.keys())):\n",
    "    f_x = np.array(embed_classwise[c])\n",
    "    classwise_mean[c] = f_x.mean(axis=0)\n",
    "    f_x = f_x - classwise_mean[c][np.newaxis,:]\n",
    "    print(f_x.shape)\n",
    "    precision.append(f_x)"
   ]
  },
  {
   "cell_type": "code",
   "execution_count": 50,
   "id": "9774fc7c",
   "metadata": {},
   "outputs": [],
   "source": [
    "precision = np.concatenate(precision,axis=0)"
   ]
  },
  {
   "cell_type": "code",
   "execution_count": 51,
   "id": "ee208b6d",
   "metadata": {},
   "outputs": [
    {
     "data": {
      "text/plain": [
       "(77020, 1024)"
      ]
     },
     "execution_count": 51,
     "metadata": {},
     "output_type": "execute_result"
    }
   ],
   "source": [
    "precision.shape"
   ]
  },
  {
   "cell_type": "code",
   "execution_count": 28,
   "id": "fcd0a0bd",
   "metadata": {},
   "outputs": [
    {
     "data": {
      "text/plain": [
       "array([0.00576049, 0.12466978, 0.45142594, ..., 0.0345595 , 0.42663744,\n",
       "       1.5739923 ], dtype=float32)"
      ]
     },
     "execution_count": 28,
     "metadata": {},
     "output_type": "execute_result"
    }
   ],
   "source": [
    "classwise_mean[0]"
   ]
  },
  {
   "cell_type": "code",
   "execution_count": 45,
   "id": "4e6a5110",
   "metadata": {},
   "outputs": [],
   "source": [
    "a = np.array(embed_classwise[0]) - classwise_mean[0][np.newaxis,:]"
   ]
  },
  {
   "cell_type": "code",
   "execution_count": 47,
   "id": "787a0d89",
   "metadata": {},
   "outputs": [
    {
     "data": {
      "text/plain": [
       "(170, 1024)"
      ]
     },
     "execution_count": 47,
     "metadata": {},
     "output_type": "execute_result"
    }
   ],
   "source": [
    "a.shape"
   ]
  },
  {
   "cell_type": "code",
   "execution_count": 58,
   "id": "cbaf7126",
   "metadata": {},
   "outputs": [],
   "source": [
    "group_lasso = EmpiricalCovariance(assume_centered=False)\n",
    "final_precision = []\n",
    "group_lasso.fit(precision)\n",
    "temp_precision = group_lasso.precision_\n",
    "#temp_precision = torch.from_numpy(temp_precision).float().cuda()\n",
    "final_precision.append(temp_precision)"
   ]
  },
  {
   "cell_type": "code",
   "execution_count": 60,
   "id": "659f4c57",
   "metadata": {},
   "outputs": [
    {
     "data": {
      "text/plain": [
       "(1024, 1024)"
      ]
     },
     "execution_count": 60,
     "metadata": {},
     "output_type": "execute_result"
    }
   ],
   "source": [
    "final_precision[0].shape"
   ]
  },
  {
   "cell_type": "code",
   "execution_count": 62,
   "id": "dda0c985",
   "metadata": {},
   "outputs": [
    {
     "data": {
      "text/plain": [
       "(1024, 1024)"
      ]
     },
     "execution_count": 62,
     "metadata": {},
     "output_type": "execute_result"
    }
   ],
   "source": [
    "temp_precision.shape"
   ]
  },
  {
   "cell_type": "code",
   "execution_count": 65,
   "id": "f21864a5",
   "metadata": {},
   "outputs": [],
   "source": [
    "def sample_estimator(embed_classwise):\n",
    "    classwise_mean = np.zeros((len(embed_classwise.keys()),embed_classwise[0][0].shape[0]),dtype='float32')\n",
    "    precision = []\n",
    "    group_lasso = EmpiricalCovariance(assume_centered=False)\n",
    "    for c in range(len(embed_classwise.keys())):\n",
    "        f_x = np.array(embed_classwise[c])\n",
    "        classwise_mean[c] = f_x.mean(axis=0)\n",
    "        f_x = f_x - classwise_mean[c][np.newaxis,:]\n",
    "        \n",
    "        ### finding inverse of covariance\n",
    "        group_lasso.fit(f_x)\n",
    "        temp_precision = group_lasso.precision_\n",
    "        precision.append(temp_precision)\n",
    "    precision = np.array(precision)\n",
    "   \n",
    "\n",
    "    return classwise_mean,precision"
   ]
  },
  {
   "cell_type": "code",
   "execution_count": 66,
   "id": "1b5115f3",
   "metadata": {},
   "outputs": [],
   "source": [
    "sample_mean,cov = sample_estimator(embed_classwise)"
   ]
  },
  {
   "cell_type": "code",
   "execution_count": 67,
   "id": "48ae25db",
   "metadata": {},
   "outputs": [
    {
     "data": {
      "text/plain": [
       "(12, 1024)"
      ]
     },
     "execution_count": 67,
     "metadata": {},
     "output_type": "execute_result"
    }
   ],
   "source": [
    "sample_mean.shape"
   ]
  },
  {
   "cell_type": "code",
   "execution_count": 68,
   "id": "5ecd8508",
   "metadata": {},
   "outputs": [
    {
     "data": {
      "text/plain": [
       "(12, 1024, 1024)"
      ]
     },
     "execution_count": 68,
     "metadata": {},
     "output_type": "execute_result"
    }
   ],
   "source": [
    "cov.shape"
   ]
  },
  {
   "cell_type": "code",
   "execution_count": null,
   "id": "751ecaf9",
   "metadata": {},
   "outputs": [],
   "source": []
  }
 ],
 "metadata": {
  "kernelspec": {
   "display_name": "Python 3 (ipykernel)",
   "language": "python",
   "name": "python3"
  },
  "language_info": {
   "codemirror_mode": {
    "name": "ipython",
    "version": 3
   },
   "file_extension": ".py",
   "mimetype": "text/x-python",
   "name": "python",
   "nbconvert_exporter": "python",
   "pygments_lexer": "ipython3",
   "version": "3.8.10"
  }
 },
 "nbformat": 4,
 "nbformat_minor": 5
}
